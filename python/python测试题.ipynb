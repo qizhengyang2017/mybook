{
 "cells": [
  {
   "cell_type": "markdown",
   "id": "666b1fe2-d653-4ef4-a80a-1f0f829218cc",
   "metadata": {},
   "source": [
    "# python测试"
   ]
  },
  {
   "cell_type": "markdown",
   "id": "1cc2fc23-d4b6-40a9-9abe-d655ac35451a",
   "metadata": {},
   "source": [
    "## 出现最多次的整数\n",
    "输入一组无序的整数，编程输出其中出现次数最多的整数及其出现次数。"
   ]
  },
  {
   "cell_type": "code",
   "execution_count": 42,
   "id": "cf41a7ba-552f-41ee-a4df-e1482a0206cd",
   "metadata": {},
   "outputs": [
    {
     "name": "stdin",
     "output_type": "stream",
     "text": [
      " 3 3 1 2 6\n"
     ]
    },
    {
     "name": "stdout",
     "output_type": "stream",
     "text": [
      "3 2\n"
     ]
    }
   ],
   "source": [
    "#_ = input()\n",
    "a = input().split()\n",
    "\n",
    "a = [int(i) for i in a] # 列表推导式创建列表\n",
    "\n",
    "mydict = {}\n",
    "\n",
    "for i in a:\n",
    "    mydict[i] = mydict.get(i,0)+1 # get方法获得键相关联的值。第一个参数用于指定键，第二个参数为指定键不存在是返回的值\n",
    "\n",
    "max_times = max(mydict.values()) # 最大值\n",
    "data = list(mydict.items()) # 返回键值对列表。\n",
    "# data.sort() # sort永久性修改列表的排列顺序\n",
    "\n",
    "for i in data:\n",
    "    if i[1] == max_times:\n",
    "        print(i[0],i[1])\n"
   ]
  },
  {
   "cell_type": "markdown",
   "id": "4e113210-ada8-49ee-9bb0-c4f54949cdc6",
   "metadata": {},
   "source": [
    "## 征友\n",
    "\n",
    "土生土长的北京妞儿，在胡同里长大房不多，就一个四合院和近郊的别墅。不算美如天仙但还算标致，在清华读的经管，现在在做基金经理，个人擅长基本面分析，价值投资。现在只想找个聪明靠谱的IT男。硬性要求是出生年龄不要超过1990年，我对智商的要求比较高，下面就出个题测试下。我的微信ID是大写字母JH后面跟着两个质数，大的在前，小的在后，乘积是707829217，可直接搜索加微信，请输出该微信号！\n",
    "\n"
   ]
  },
  {
   "cell_type": "code",
   "execution_count": 24,
   "id": "3c53e5dc-fd36-4d2d-a4b4-b974bc077b4a",
   "metadata": {},
   "outputs": [
    {
     "name": "stdin",
     "output_type": "stream",
     "text": [
      " 707829217\n"
     ]
    },
    {
     "name": "stdout",
     "output_type": "stream",
     "text": [
      "JH866278171\n"
     ]
    }
   ],
   "source": [
    "def sushu(n):\n",
    "    # 判断一个数是不是素数，除了1和它自身没有其他约数\n",
    "    for i in range(2,n): # 生成2到(n-1)的一系列数\n",
    "        if n%i==0: # %操作符返回余数\n",
    "            return False\n",
    "    return True\n",
    "a = int(input()) # 通过int获取数值输入\n",
    "result = 'JH'\n",
    "for i in range(2,a):\n",
    "    if sushu(i) and a%i==0: # i是素数，同时又是a的约数\n",
    "        if sushu(a//i): # //floor division，结果是整数（忽略小数）。作用：判断另一个数也得是素数\n",
    "            result += (str(a//i)+str(i))\n",
    "            print(result)\n",
    "            break\n",
    "else: # for...else construct\n",
    "    print('该数已经是素数！或者不存在两个同时为素数的约数！')"
   ]
  },
  {
   "cell_type": "markdown",
   "id": "3e22f34b-273c-48e6-a3b5-527072f2bcfe",
   "metadata": {
    "tags": []
   },
   "source": [
    "## 循环和函数_亲密数\n",
    "\n",
    "求整数n以内（含n）的全部亲密数。\n",
    "\n",
    "说明：如果正整数A的全部因子(包括1，不包括A本身)之和等于B；且正整数B的全部因子(包括1，不包括B本身)之和等于A，A不等于B，则将正整数A和B称为亲密数。\n",
    "1不和其他数形成亲密数。\n"
   ]
  },
  {
   "cell_type": "code",
   "execution_count": 63,
   "id": "b8102acb-285e-42d0-8751-60ab7e58cb72",
   "metadata": {},
   "outputs": [
    {
     "name": "stdin",
     "output_type": "stream",
     "text": [
      " 1000\n"
     ]
    },
    {
     "name": "stdout",
     "output_type": "stream",
     "text": [
      "220 284\n"
     ]
    }
   ],
   "source": [
    "# 因子之和\n",
    "def sumyinzi(n):\n",
    "    ls = [1,]\n",
    "    for i in range(2,n):\n",
    "        if n%i==0:\n",
    "            ls.append(i)\n",
    "    return sum(ls)\n",
    "\n",
    "def sumElem(n):\n",
    "    mydict = {}\n",
    "    # 求所有数的因子之和\n",
    "    for i in range(2,n+1):\n",
    "        mydict[i] = sumyinzi(i)\n",
    "    result = []\n",
    "    \n",
    "    for i in mydict:\n",
    "        # mydict[i] in mydict 等价于 mydict[i] in mydict.keys。\n",
    "        if mydict[i] in mydict and i==mydict[mydict[i]] and i!=mydict[i]:\n",
    "            result.append((min(i,mydict[i]),max(i,mydict[i]))) # append 添加元组\n",
    "    result1 = list(set(result)) # 通过集合去重，然后使用list转换成列表\n",
    "    result1.sort()\n",
    "    [print(i,j) for i,j in result1]\n",
    "a = int(input())\n",
    "sumElem(a)\n"
   ]
  },
  {
   "cell_type": "markdown",
   "id": "c118b9a1-7b56-4033-9d97-8334e69f85d4",
   "metadata": {},
   "source": [
    "## 位置码加密\n",
    "导入随机数库产生随机数时设置固定seed(10)。\n",
    "为给定的字符串原码用随机产生位置码的方式进行加密。例如原码：010512，则位置码为由1-6这6个数字随机产生的数字序列：362415，位置码的生成取决于原码的长度L，每一位都不重复。根据位置码调整原码的顺序得到加密结果：021501，将原码的第3位0放到加密后的第1位，将原码的第6位2放到加密后的第2位，以此类推。\n",
    "提示注意：对于样例打乱原码位置码123456时如果使用random库中的sample，choice等方法时需要用reverse方法对列表逆序才能和结果一致，用shuffle就不用逆序。\n",
    "\n",
    "输入一个长度小于10的字符串，根据原码字符串s编写函数posCode(s)产生对应长度的位置码，并作为返回值返回。\n",
    "\n",
    "根据原码字符串s和位置码posCode编写函数changeCode(s,posCode)实现原码根据位置码转换成加密后的字符串，并作为返回值返回\n"
   ]
  },
  {
   "cell_type": "code",
   "execution_count": 76,
   "id": "a1583188-518d-4e0b-b285-06848cbb0b03",
   "metadata": {},
   "outputs": [
    {
     "name": "stdin",
     "output_type": "stream",
     "text": [
      " 010512\n"
     ]
    },
    {
     "name": "stdout",
     "output_type": "stream",
     "text": [
      "362415\n",
      "021501\n"
     ]
    }
   ],
   "source": [
    "import random\n",
    "random.seed(10)\n",
    "\n",
    "# 获得位置码，010512 -> [3, 1, 6, 5, 4, 2]\n",
    "def posCode(str_len):\n",
    "    index_ls = [i for i in range(1, str_len + 1)] # 1,2,3..n的一列数\n",
    "    random.shuffle(index_ls) # index_ls被随机打乱\n",
    "    return index_ls\n",
    "\n",
    "# 源码根据位置码转换\n",
    "def changeCode(s,poscode):\n",
    "    poscode = [i-1 for i in poscode]\n",
    "    result = ''\n",
    "    for i in poscode:\n",
    "        result+=s[i]\n",
    "    return result\n",
    "\n",
    "s = input()\n",
    "poscode = posCode(len(s))\n",
    "pos = ''\n",
    "for i in poscode:\n",
    "    pos+=str(i)\n",
    "print(pos)\n",
    "result = changeCode(s,poscode)\n",
    "print(result)\n"
   ]
  },
  {
   "cell_type": "markdown",
   "id": "6791928b-4bd9-4721-b1d9-01dd65ff8eff",
   "metadata": {},
   "source": [
    "## 通过年份和月份，求该月天数\n",
    "输入日期的年份和月份，求该月有多少天。提示：对于月份为1、3、5、7、8、10、12的月份天数为31，月份为4、6、9、11的月份天数为30，月份为2时要结合年份考虑闰年的情况。"
   ]
  },
  {
   "cell_type": "code",
   "execution_count": 85,
   "id": "e8c77a5a-08a5-4680-93e6-4e674ddee072",
   "metadata": {},
   "outputs": [
    {
     "name": "stdin",
     "output_type": "stream",
     "text": [
      "year,month: 2021,2\n"
     ]
    },
    {
     "name": "stdout",
     "output_type": "stream",
     "text": [
      "28\n"
     ]
    }
   ],
   "source": [
    "(x,y)=eval(input(\"year,month:\")) # eval将输入转成元组\n",
    "if y in [1,3,5,7,8,10,12]:\n",
    "    print(\"31\")\n",
    "elif y in [4,6,9,11]:\n",
    "    print(\"30\")\n",
    "else:\n",
    "    if x%4==0 and x%100!=0 or x%400==0:\n",
    "        print(\"29\")\n",
    "    else:\n",
    "        print(\"28\")\n"
   ]
  },
  {
   "cell_type": "markdown",
   "id": "89052eaf-957f-4041-85f0-c84c7643b856",
   "metadata": {},
   "source": [
    "## 矩阵的乘法\n",
    "编写程序，完成2x3矩阵和3x2整数矩阵的乘法，输出结果矩阵。"
   ]
  },
  {
   "cell_type": "code",
   "execution_count": 102,
   "id": "023f87da-de8c-4c70-8314-8a55307ba2c1",
   "metadata": {},
   "outputs": [
    {
     "name": "stdin",
     "output_type": "stream",
     "text": [
      "  1 2 3 0 1 0 1 2 5 6 2 3\n"
     ]
    },
    {
     "name": "stdout",
     "output_type": "stream",
     "text": [
      "      17      23\n",
      "       5       6\n"
     ]
    }
   ],
   "source": [
    "data = input()\n",
    "data = [int(i) for i in data.split()]\n",
    "# 定义两个矩阵，只不过是单行的，为了方便做乘法\n",
    "x=2\n",
    "y=3\n",
    "z=x*y\n",
    "\n",
    "a = data[:z]\n",
    "b = data[z:]\n",
    "# 最后的结果矩阵\n",
    "c = []\n",
    "# 两个矩阵相乘\n",
    "for i in range(x):\n",
    "    ls = []\n",
    "    for j in range(x):\n",
    "        a_temp = a[i*y:(i+1)*y] # a矩阵第i行的数\n",
    "        b_temp = b[j::x] # b矩阵第j列\n",
    "        # 行列相乘\n",
    "        result = 0\n",
    "        for num_a,num_b in zip(a_temp,b_temp): # zip将对应的元素打包成一个元组\n",
    "            result += num_a*num_b\n",
    "        ls.append(result)\n",
    "    c.append(ls)\n",
    "#-------------------------   打印出相乘|后的矩阵  --------------------   \n",
    "for i in range(len(c)):\n",
    "    # 输出一行信息\n",
    "    for j in range(x):\n",
    "        print('%8s'%c[i][j],end='') #格式化输出\n",
    "    print() # produce an invisible newline character\n"
   ]
  },
  {
   "cell_type": "markdown",
   "id": "c884807e-aa32-4181-b4e7-8257b09c7b0f",
   "metadata": {},
   "source": [
    "## 求多项式的和\n",
    "编写一个函数mySum(a,n)，求以下n项式的和：\n",
    "s=a+aa+aaa+…+aa…a， 其中a是1~9的数字，最后一项是n位都是a的数字\n",
    "程序部分代码如下：\n",
    "x,y=eval(input())\n",
    "print(mySum(x,y))"
   ]
  },
  {
   "cell_type": "code",
   "execution_count": 119,
   "id": "04f03150-55ad-4b71-a0cf-41d35a288993",
   "metadata": {},
   "outputs": [
    {
     "name": "stdin",
     "output_type": "stream",
     "text": [
      " 2,3\n"
     ]
    },
    {
     "name": "stdout",
     "output_type": "stream",
     "text": [
      "246\n"
     ]
    }
   ],
   "source": [
    "def mySum(a,n):\n",
    "    # lambda n:sum(list(map(lambda n:a*(10**n),range(n))))\n",
    "    # map(lambda n:a*(10**n),range(n))\n",
    "    list1=list(map(lambda n:sum(list(map(lambda n:a*(10**n),range(n)))),range(1,n+1))) # lambda n:a*(10**n)匿名函数，map作用于列表中的每个元素。这里写的很复杂。目的是得到一串序列\n",
    "    return sum(list1) # 列表中的元素求和\n",
    "x,y=eval(input())\n",
    "mySum(x,y)\n",
    "print(mySum(x,y))\n"
   ]
  },
  {
   "cell_type": "code",
   "execution_count": 120,
   "id": "fbeb0e2d-6429-4578-b6cd-413472d82b68",
   "metadata": {},
   "outputs": [
    {
     "data": {
      "text/plain": [
       "[2, 20, 200]"
      ]
     },
     "execution_count": 120,
     "metadata": {},
     "output_type": "execute_result"
    }
   ],
   "source": [
    "a = 2\n",
    "n = 3\n",
    "list(map(lambda n:a*(10**n),range(n)))"
   ]
  },
  {
   "cell_type": "code",
   "execution_count": 121,
   "id": "509c27da-8504-4654-a2db-961a21e0badd",
   "metadata": {},
   "outputs": [
    {
     "data": {
      "text/plain": [
       "[2, 22, 222]"
      ]
     },
     "execution_count": 121,
     "metadata": {},
     "output_type": "execute_result"
    }
   ],
   "source": [
    "a = 2\n",
    "n = 3\n",
    "list(map(lambda n:sum(list(map(lambda n:a*(10**n),range(n)))),range(1,n+1)))"
   ]
  },
  {
   "cell_type": "markdown",
   "id": "58022f88-1088-46a5-88dd-b59f1076185e",
   "metadata": {},
   "source": [
    "## 停车费\n",
    "进入停车场开始计费。停车时间小于0.5小时不收费；每小时收费5元；不足1小时按1小时收费；最多收费50元也就是10小时以上都是50元。"
   ]
  },
  {
   "cell_type": "code",
   "execution_count": 122,
   "id": "f100cb24-da9f-4c9b-b74e-7fdc3c44da05",
   "metadata": {},
   "outputs": [
    {
     "name": "stdin",
     "output_type": "stream",
     "text": [
      "time: 2\n"
     ]
    },
    {
     "name": "stdout",
     "output_type": "stream",
     "text": [
      "10\n"
     ]
    }
   ],
   "source": [
    "import math\n",
    "hours=eval(input(\"time:\"))\n",
    "if(hours<0.5):\n",
    "    cost=0\n",
    "elif(0.5<hours<10):\n",
    "        cost=math.ceil(hours)*5 # Round a number upward to its nearest integer\n",
    "elif(50<=hours):\n",
    "        cost=50\n",
    "print(cost)\n"
   ]
  },
  {
   "cell_type": "markdown",
   "id": "bd1bacfe-b568-4f6d-9fda-3d95159da4bc",
   "metadata": {},
   "source": [
    "## 字符串中字母大小写互换"
   ]
  },
  {
   "cell_type": "code",
   "execution_count": 123,
   "id": "ec31841c-7f98-4140-b515-a6defb41d904",
   "metadata": {},
   "outputs": [
    {
     "name": "stdin",
     "output_type": "stream",
     "text": [
      " Bz\n"
     ]
    },
    {
     "name": "stdout",
     "output_type": "stream",
     "text": [
      "bZ\n"
     ]
    }
   ],
   "source": [
    "a=input()\n",
    "sum=''\n",
    "for m in a:\n",
    "    if 'A'<=m<='Z':\n",
    "        sum=sum+chr(ord(m)+32) # ord返回字符的 ASCII 数值；chr返回数值对应的字符\n",
    "    elif 'a'<=m<='z':\n",
    "        sum=sum+chr(ord(m)-32)\n",
    "    else:\n",
    "        sum=sum+m\n",
    "print(sum)"
   ]
  },
  {
   "cell_type": "markdown",
   "id": "10dd928a-9d53-4f6c-910d-650a4301a135",
   "metadata": {},
   "source": [
    "## 随机密码\n",
    "请编写程序，生成随机密码。具体要求如下：‪‪‪‪‪‫‪‪‪‪‪‪‫‪‪‪‪‪‪‪‪‪‪‪‫‪‪‪‪‪‪‪‪\n",
    "（1）使用 random 库，采用 10作为随机数种子。‪‪‪‪‪‫‪‪‪‪‪‪‫‪‪‪‪‪‪‪‪‪‪‪‫‪‪‪‪‪‪‪‪\n",
    "\n",
    "提示：random.seed(10)，不能用sample函数这是不放回抽样。\n",
    "（2）密码允许字符如下：\n",
    "\n",
    "“abcdefghijklmnopqrstuvwxyzABCDEFGHIJKLMNOPQRSTUVWXYZ1234567890”\n",
    "（3）密码长度为输入的数字。"
   ]
  },
  {
   "cell_type": "code",
   "execution_count": 124,
   "id": "adc54cc7-d2bb-4388-b861-966b5c6e1afc",
   "metadata": {},
   "outputs": [
    {
     "name": "stdin",
     "output_type": "stream",
     "text": [
      " 4\n"
     ]
    },
    {
     "name": "stdout",
     "output_type": "stream",
     "text": [
      "KcBE\n"
     ]
    }
   ],
   "source": [
    "import random\n",
    "random.seed(10)\n",
    "s = 'abcdefghijklmnopqrstuvwxyzABCDEFGHIJKLMNOPQRSTUVWXYZ1234567890'\n",
    "length = eval(input())\n",
    "ans = ''\n",
    "for i in range(length):\n",
    "    ans+=random.choice(s)\n",
    "print(ans)"
   ]
  },
  {
   "cell_type": "markdown",
   "id": "f891d08d-cd4b-47b2-aa13-6d13c2b0daa0",
   "metadata": {},
   "source": [
    "## 找因子\n",
    "输入一个大于1的整数，返回一个列表，包含所有能够整除该整数的因子（不包含1和它本身），并且从小到大排序。如果这个数是素数，则输出“(整数) is prime”。"
   ]
  },
  {
   "cell_type": "code",
   "execution_count": 133,
   "id": "2b657dec-dd21-4faa-af3f-c5790130f4eb",
   "metadata": {},
   "outputs": [
    {
     "name": "stdin",
     "output_type": "stream",
     "text": [
      "number: 42\n"
     ]
    },
    {
     "name": "stdout",
     "output_type": "stream",
     "text": [
      "[2, 3, 6, 7, 14, 21]\n"
     ]
    }
   ],
   "source": [
    "a=eval(input('number:'))\n",
    "list1=[]\n",
    "for i in range(2,a//2+1): # 因子不会超过a//2+1\n",
    "    if a%i==0:\n",
    "        list1.append(int(i))\n",
    "        list1.append(int(a/i))\n",
    "list1=list(set(list1))\n",
    "if len(list1)==0:\n",
    "    print('%s is prime'%a)\n",
    "else:\n",
    "    print(list1)\n"
   ]
  },
  {
   "cell_type": "markdown",
   "id": "94b02055-f475-4a11-80b1-aba1e8d7ec17",
   "metadata": {},
   "source": [
    "## 统计高于平均分的人数\n",
    "从若干学生成绩中统计高于(严格的大于)平均分的人数，用-1做为学生成绩数据的结束标志"
   ]
  },
  {
   "cell_type": "code",
   "execution_count": 160,
   "id": "dd7a5562-b064-44b8-a1d1-d0ad2ba28d5b",
   "metadata": {},
   "outputs": [
    {
     "name": "stdin",
     "output_type": "stream",
     "text": [
      " 1 2 3 -1\n"
     ]
    },
    {
     "name": "stdout",
     "output_type": "stream",
     "text": [
      "1\n"
     ]
    }
   ],
   "source": [
    "line = input()\n",
    "nums = [eval(x) for x in line.split()[:-1]] # 列表推到式[expr for val in collection if condition]\n",
    "\n",
    "sum(nums)/len(nums)\n",
    "\n",
    "aver_score = sum(nums)/len(nums)\n",
    "\n",
    "r=[x for x in nums if x>aver_score]\n",
    "\n",
    "print(len(r))"
   ]
  },
  {
   "cell_type": "markdown",
   "id": "21d08186-c514-415f-8f9f-026ca4de8b78",
   "metadata": {},
   "source": [
    "## 根据用户输入的日期计算是一年中的第几天\n",
    "编写函数isLeap(year)用于判断year是否是闰年，若是闰年则返回True，否则返回False。"
   ]
  },
  {
   "cell_type": "code",
   "execution_count": 161,
   "id": "70590f4f-a7f1-4423-8a9b-43498b8da442",
   "metadata": {},
   "outputs": [
    {
     "name": "stdin",
     "output_type": "stream",
     "text": [
      " 2021/12/28\n"
     ]
    },
    {
     "name": "stdout",
     "output_type": "stream",
     "text": [
      "362\n"
     ]
    }
   ],
   "source": [
    "def isLeap(year):\n",
    "    if year%4==0 and year%100!=0 or year%400==0:\n",
    "        return True\n",
    "    else:\n",
    "        return False\n",
    "def days(year,month):\n",
    "    dict1={1:31,3:31,5:31,7:31,8:31,10:31,12:31,4:30,6:30,9:30,11:30}\n",
    "    sum1=0\n",
    "    if isLeap(year):\n",
    "        dict1[2]=29\n",
    "    else:\n",
    "        dict1[2]=28\n",
    "    for i in dict1:\n",
    "        if i<month:\n",
    "            sum1=sum1+dict1[i]\n",
    "    print(sum1+list1[2])\n",
    "a=input()\n",
    "list1=a.split('/')\n",
    "list1=[int(i) for i in list1]\n",
    "year=list1[0]\n",
    "month=list1[1]\n",
    "day=list1[2]\n",
    "days(year,month)\n"
   ]
  },
  {
   "cell_type": "markdown",
   "id": "c2835c74-26c4-4b02-8753-2fe58372652f",
   "metadata": {},
   "source": [
    "## 统计一共出现了多少个3\n",
    "输入任意一个正整数，从1开始到这个数字的奇数序列里，统计一共出现了多少个3。\n",
    "编写函数sumThree()，实现功能是，输入一个正整数，返回该数中3出现的个数。"
   ]
  },
  {
   "cell_type": "code",
   "execution_count": 162,
   "id": "e7669831-5075-417f-90a7-80678c59166f",
   "metadata": {},
   "outputs": [
    {
     "name": "stdin",
     "output_type": "stream",
     "text": [
      "number: 32\n"
     ]
    },
    {
     "name": "stdout",
     "output_type": "stream",
     "text": [
      "4\n"
     ]
    }
   ],
   "source": [
    "def sumThree(n):\n",
    "    sum=0\n",
    "    for i in range(1,int(n)+1):\n",
    "        if i%2!=0: # 不能被2整除\n",
    "            sum+=str(i).count(\"3\")\n",
    "    return sum\n",
    "x=input(\"number:\")\n",
    "print(sumThree(x))\n"
   ]
  },
  {
   "cell_type": "markdown",
   "id": "987905da-3798-45af-9a1c-0fdf5506cd62",
   "metadata": {},
   "source": [
    "## 输出斐波拉契数列-上机考试题\n",
    "定义一个函数fib，给定n，返回n以内的斐波那契数列。\n",
    "注：斐波拉契数列由0和1开始，之后的数就是由之前的两数相加而得出：0, 1, 1, 2, 3, 5, 8, 13, 21\n"
   ]
  },
  {
   "cell_type": "code",
   "execution_count": 164,
   "id": "6705fe25-11da-40f9-848f-06fc828f4b31",
   "metadata": {},
   "outputs": [
    {
     "name": "stdin",
     "output_type": "stream",
     "text": [
      "input a number please: 5\n"
     ]
    },
    {
     "name": "stdout",
     "output_type": "stream",
     "text": [
      "1,1,2,3,5,"
     ]
    }
   ],
   "source": [
    "num=eval(input('input a number please:'))\n",
    "list1=[0,1]\n",
    "c=1\n",
    "i=1\n",
    "while 1: # 等于 while True:\n",
    "    c=list1[i]+list1[i-1]\n",
    "    if c>num:\n",
    "        break # 退出循环\n",
    "    else:\n",
    "        i+=1\n",
    "        list1.append(c)\n",
    "for i in list1[1:]:\n",
    "    print(i,end=',')"
   ]
  }
 ],
 "metadata": {
  "kernelspec": {
   "display_name": "Python 3 (ipykernel)",
   "language": "python",
   "name": "python3"
  },
  "language_info": {
   "codemirror_mode": {
    "name": "ipython",
    "version": 3
   },
   "file_extension": ".py",
   "mimetype": "text/x-python",
   "name": "python",
   "nbconvert_exporter": "python",
   "pygments_lexer": "ipython3",
   "version": "3.9.7"
  }
 },
 "nbformat": 4,
 "nbformat_minor": 5
}
